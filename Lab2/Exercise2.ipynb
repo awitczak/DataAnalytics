{
 "cells": [
  {
   "cell_type": "code",
   "execution_count": 3,
   "metadata": {},
   "outputs": [
    {
     "name": "stderr",
     "output_type": "stream",
     "text": [
      "INFO:cmdstanpy:found newer exe file, not recompiling\n",
      "INFO:cmdstanpy:CmdStan start procesing\n",
      "chain 1 |\u001b[33m          \u001b[0m| 00:00 Status\n",
      "\u001b[A\n",
      "\n",
      "\u001b[A\u001b[A\n",
      "\u001b[A\n",
      "\n",
      "chain 1 |\u001b[34m██████████\u001b[0m| 00:00 Sampling completed\n",
      "chain 2 |\u001b[34m██████████\u001b[0m| 00:00 Sampling completed\n",
      "chain 3 |\u001b[34m██████████\u001b[0m| 00:00 Sampling completed                       \n",
      "chain 4 |\u001b[34m██████████\u001b[0m| 00:00 Sampling completed                       "
     ]
    },
    {
     "name": "stdout",
     "output_type": "stream",
     "text": [
      "                                                                                                                                                                                                                                                                                                                                "
     ]
    },
    {
     "name": "stderr",
     "output_type": "stream",
     "text": [
      "\n",
      "INFO:cmdstanpy:CmdStan done processing.\n",
      "INFO:cmdstanpy:compiling stan file C:\\Users\\awitc\\Desktop\\DataAnalytics\\Lab2\\code_3.stan to exe file C:\\Users\\awitc\\Desktop\\DataAnalytics\\Lab2\\code_3.exe\n"
     ]
    },
    {
     "name": "stdout",
     "output_type": "stream",
     "text": [
      "\n"
     ]
    },
    {
     "name": "stderr",
     "output_type": "stream",
     "text": [
      "INFO:cmdstanpy:compiled model executable: C:\\Users\\awitc\\Desktop\\DataAnalytics\\Lab2\\code_3.exe\n",
      "WARNING:cmdstanpy:Stan compiler has produced 1 warnings:\n",
      "WARNING:cmdstanpy:\n",
      "--- Translating Stan model to C++ code ---\n",
      "bin/stanc.exe  --o=C:/Users/awitc/Desktop/DataAnalytics/Lab2/code_3.hpp C:/Users/awitc/Desktop/DataAnalytics/Lab2/code_3.stan\n",
      "Warning in 'C:/Users/awitc/Desktop/DataAnalytics/Lab2/code_3.stan', line 3, column 4: Declaration\n",
      "    of arrays by placing brackets after a variable name is deprecated and\n",
      "    will be removed in Stan 2.32.0. Instead use the array keyword before the\n",
      "    type. This can be changed automatically using the auto-format flag to\n",
      "    stanc\n",
      "\n",
      "--- Compiling, linking C++ code ---\n",
      "g++ -std=c++1y -m64 -D_REENTRANT -Wall -Wno-unused-function -Wno-uninitialized -Wno-unused-but-set-variable -Wno-unused-variable -Wno-sign-compare -Wno-unused-local-typedefs -Wno-int-in-bool-context -Wno-attributes -Wno-ignored-attributes      -I stan/lib/stan_math/lib/tbb_2020.3/include    -O3 -I src -I stan/src -I lib/rapidjson_1.1.0/ -I lib/CLI11-1.9.1/ -I stan/lib/stan_math/ -I stan/lib/stan_math/lib/eigen_3.3.9 -I stan/lib/stan_math/lib/boost_1.75.0 -I stan/lib/stan_math/lib/sundials_6.0.0/include -I stan/lib/stan_math/lib/sundials_6.0.0/src/sundials  -D_USE_MATH_DEFINES  -DBOOST_DISABLE_ASSERTS          -c  -x c++ -o C:/Users/awitc/Desktop/DataAnalytics/Lab2/code_3.o C:/Users/awitc/Desktop/DataAnalytics/Lab2/code_3.hpp\n",
      "g++ -std=c++1y -m64 -D_REENTRANT -Wall -Wno-unused-function -Wno-uninitialized -Wno-unused-but-set-variable -Wno-unused-variable -Wno-sign-compare -Wno-unused-local-typedefs -Wno-int-in-bool-context -Wno-attributes -Wno-ignored-attributes      -I stan/lib/stan_math/lib/tbb_2020.3/include    -O3 -I src -I stan/src -I lib/rapidjson_1.1.0/ -I lib/CLI11-1.9.1/ -I stan/lib/stan_math/ -I stan/lib/stan_math/lib/eigen_3.3.9 -I stan/lib/stan_math/lib/boost_1.75.0 -I stan/lib/stan_math/lib/sundials_6.0.0/include -I stan/lib/stan_math/lib/sundials_6.0.0/src/sundials  -D_USE_MATH_DEFINES  -DBOOST_DISABLE_ASSERTS                -Wl,-L,\"C:/Users/awitc/anaconda3/Library/bin/cmdstan/stan/lib/stan_math/lib/tbb\" -Wl,-rpath,\"C:/Users/awitc/anaconda3/Library/bin/cmdstan/stan/lib/stan_math/lib/tbb\"      C:/Users/awitc/Desktop/DataAnalytics/Lab2/code_3.o src/cmdstan/main.o  -static-libgcc -static-libstdc++      -Wl,-L,\"C:/Users/awitc/anaconda3/Library/bin/cmdstan/stan/lib/stan_math/lib/tbb\" -Wl,-rpath,\"C:/Users/awitc/anaconda3/Library/bin/cmdstan/stan/lib/stan_math/lib/tbb\"   stan/lib/stan_math/lib/sundials_6.0.0/lib/libsundials_nvecserial.a stan/lib/stan_math/lib/sundials_6.0.0/lib/libsundials_cvodes.a stan/lib/stan_math/lib/sundials_6.0.0/lib/libsundials_idas.a stan/lib/stan_math/lib/sundials_6.0.0/lib/libsundials_kinsol.a  stan/lib/stan_math/lib/tbb/tbb.dll -o C:/Users/awitc/Desktop/DataAnalytics/Lab2/code_3.exe\n",
      "rm -f C:/Users/awitc/Desktop/DataAnalytics/Lab2/code_3.o\n",
      "\n",
      "INFO:cmdstanpy:CmdStan start procesing\n",
      "chain 1 |\u001b[33m          \u001b[0m| 00:00 Status\n",
      "\u001b[A\n",
      "\n",
      "chain 1 |\u001b[34m█████▉    \u001b[0m| 00:00 Iteration: 1001 / 2000 [ 50%]  (Sampling)\n",
      "\u001b[A\n",
      "\n",
      "chain 1 |\u001b[34m██████████\u001b[0m| 00:00 Sampling completed                       \n",
      "chain 2 |\u001b[34m██████████\u001b[0m| 00:00 Sampling completed                       \n",
      "chain 3 |\u001b[34m██████████\u001b[0m| 00:00 Sampling completed                       \n",
      "chain 4 |\u001b[34m██████████\u001b[0m| 00:00 Sampling completed                       "
     ]
    },
    {
     "name": "stdout",
     "output_type": "stream",
     "text": [
      "                                                                                                                                                                                                                                                                                                                                "
     ]
    },
    {
     "name": "stderr",
     "output_type": "stream",
     "text": [
      "\n",
      "INFO:cmdstanpy:CmdStan done processing.\n"
     ]
    },
    {
     "name": "stdout",
     "output_type": "stream",
     "text": [
      "\n"
     ]
    },
    {
     "data": {
      "image/png": "[encoded data removed]",
      "text/plain": [
       "<Figure size 432x288 with 2 Axes>"
      ]
     },
     "metadata": {
      "needs_background": "light"
     },
     "output_type": "display_data"
    }
   ],
   "source": [
    "from cmdstanpy import CmdStanModel\n",
    "import pandas as pd\n",
    "import arviz as az \n",
    "import numpy as np\n",
    "import matplotlib.pyplot as plt\n",
    "import scipy.stats as stats\n",
    "\n",
    "# first model\n",
    "bern1 = CmdStanModel(stan_file='code_2.stan')\n",
    "samp_bern1 = bern1.sample(data={'N':2, 'y':[0,1]})\n",
    "\n",
    "# second model\n",
    "bern2 = CmdStanModel(stan_file='code_3.stan')\n",
    "samp_bern2 = bern2.sample(data={'N':2, 'y':[0,1]})\n",
    "\n",
    "theta1 = samp_bern1.stan_variable('theta')\n",
    "theta2 = samp_bern2.stan_variable('theta')\n",
    "\n",
    "df = pd.DataFrame({'theta1': theta1, 'theta2': theta2})\n",
    "df.plot.hist(subplots=True, bins=20)\n",
    "plt.show()"
   ]
  }
 ],
 "metadata": {
  "interpreter": {
   "hash": "255cda09c82fcb689781c9ae6f38bb5ff0b218def1cb6007ecac37eb05118218"
  },
  "kernelspec": {
   "display_name": "Python 3.9.7 ('base')",
   "language": "python",
   "name": "python3"
  },
  "language_info": {
   "codemirror_mode": {
    "name": "ipython",
    "version": 3
   },
   "file_extension": ".py",
   "mimetype": "text/x-python",
   "name": "python",
   "nbconvert_exporter": "python",
   "pygments_lexer": "ipython3",
   "version": "3.9.7"
  },
  "orig_nbformat": 4
 },
 "nbformat": 4,
 "nbformat_minor": 2
}
